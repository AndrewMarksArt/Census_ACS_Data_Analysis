{
 "cells": [
  {
   "cell_type": "code",
   "execution_count": 85,
   "metadata": {},
   "outputs": [],
   "source": [
    "# import statements\n",
    "import pandas as pd\n",
    "import numpy as np\n",
    "import matplotlib.pyplot as plt\n",
    "import seaborn as sns"
   ]
  },
  {
   "cell_type": "markdown",
   "metadata": {},
   "source": [
    "# **Using Census Data from the American Community Survey in NY to predict the 'Average Starting Salary', 'Standard Deviation', and 'Average Raise Rate' in 2018 for Physician Assistants (PAs).**\n",
    "## **Assumptions:** Starting salary is normally distributed and earnings grow at a constant percentage each year for all PAs.\n",
    "## **Data Source:** https://www.census.gov/programs-surveys/acs/data/pums.html\n",
    "\n",
    "### **Note about data:** The data is available in 1 year and 5 year Public Use Microdata Sample (PUMS), for this project the 1 year 2018 ACS PUMS and 5 year 2014-2018 PUMS was used."
   ]
  },
  {
   "cell_type": "markdown",
   "metadata": {},
   "source": [
    "# Part 1: Use 1 year survey to calculate average income and standard deviation"
   ]
  },
  {
   "cell_type": "markdown",
   "metadata": {},
   "source": [
    "### Starting with the 1 year 2018 ACS PUMS data\n",
    "\n",
    "* load the data and create a dataframe\n",
    "* drop all columns except age, income and columns related to hours and weeks worked\n",
    "* Summary stats for dataframe\n",
    "* Use age to try and select PAs most likely to be early career or just starting (subjective)\n",
    "* trim oultiers and remove errors (subjective)\n",
    "* calculate 'Average Income' and 'Standard Deviation'\n",
    "* calculate, 'Margin of Error', 'Confidence Intervals' (90% and 95%)"
   ]
  },
  {
   "cell_type": "code",
   "execution_count": 189,
   "metadata": {},
   "outputs": [
    {
     "data": {
      "text/plain": [
       "(196967, 286)"
      ]
     },
     "execution_count": 189,
     "metadata": {},
     "output_type": "execute_result"
    }
   ],
   "source": [
    "# load data and create dataframe\n",
    "# from the PUMS documentation New York State code is 36 and p is for personal\n",
    "pums_1yr = pd.read_csv('psam_p36.csv')\n",
    "\n",
    "# print out the shape of the full dataframe\n",
    "pums_1yr.shape"
   ]
  },
  {
   "cell_type": "code",
   "execution_count": 190,
   "metadata": {},
   "outputs": [
    {
     "data": {
      "text/html": [
       "<div>\n",
       "<style scoped>\n",
       "    .dataframe tbody tr th:only-of-type {\n",
       "        vertical-align: middle;\n",
       "    }\n",
       "\n",
       "    .dataframe tbody tr th {\n",
       "        vertical-align: top;\n",
       "    }\n",
       "\n",
       "    .dataframe thead th {\n",
       "        text-align: right;\n",
       "    }\n",
       "</style>\n",
       "<table border=\"1\" class=\"dataframe\">\n",
       "  <thead>\n",
       "    <tr style=\"text-align: right;\">\n",
       "      <th></th>\n",
       "      <th>RT</th>\n",
       "      <th>SERIALNO</th>\n",
       "      <th>DIVISION</th>\n",
       "      <th>SPORDER</th>\n",
       "      <th>PUMA</th>\n",
       "      <th>REGION</th>\n",
       "      <th>ST</th>\n",
       "      <th>ADJINC</th>\n",
       "      <th>PWGTP</th>\n",
       "      <th>AGEP</th>\n",
       "      <th>...</th>\n",
       "      <th>PWGTP71</th>\n",
       "      <th>PWGTP72</th>\n",
       "      <th>PWGTP73</th>\n",
       "      <th>PWGTP74</th>\n",
       "      <th>PWGTP75</th>\n",
       "      <th>PWGTP76</th>\n",
       "      <th>PWGTP77</th>\n",
       "      <th>PWGTP78</th>\n",
       "      <th>PWGTP79</th>\n",
       "      <th>PWGTP80</th>\n",
       "    </tr>\n",
       "  </thead>\n",
       "  <tbody>\n",
       "    <tr>\n",
       "      <td>0</td>\n",
       "      <td>P</td>\n",
       "      <td>2018GQ0000012</td>\n",
       "      <td>2</td>\n",
       "      <td>1</td>\n",
       "      <td>3802</td>\n",
       "      <td>1</td>\n",
       "      <td>36</td>\n",
       "      <td>1013097</td>\n",
       "      <td>145</td>\n",
       "      <td>26</td>\n",
       "      <td>...</td>\n",
       "      <td>146</td>\n",
       "      <td>146</td>\n",
       "      <td>21</td>\n",
       "      <td>24</td>\n",
       "      <td>266</td>\n",
       "      <td>263</td>\n",
       "      <td>21</td>\n",
       "      <td>146</td>\n",
       "      <td>265</td>\n",
       "      <td>144</td>\n",
       "    </tr>\n",
       "    <tr>\n",
       "      <td>1</td>\n",
       "      <td>P</td>\n",
       "      <td>2018GQ0000040</td>\n",
       "      <td>2</td>\n",
       "      <td>1</td>\n",
       "      <td>2702</td>\n",
       "      <td>1</td>\n",
       "      <td>36</td>\n",
       "      <td>1013097</td>\n",
       "      <td>43</td>\n",
       "      <td>21</td>\n",
       "      <td>...</td>\n",
       "      <td>6</td>\n",
       "      <td>42</td>\n",
       "      <td>43</td>\n",
       "      <td>7</td>\n",
       "      <td>40</td>\n",
       "      <td>6</td>\n",
       "      <td>43</td>\n",
       "      <td>40</td>\n",
       "      <td>42</td>\n",
       "      <td>6</td>\n",
       "    </tr>\n",
       "    <tr>\n",
       "      <td>2</td>\n",
       "      <td>P</td>\n",
       "      <td>2018GQ0000060</td>\n",
       "      <td>2</td>\n",
       "      <td>1</td>\n",
       "      <td>2001</td>\n",
       "      <td>1</td>\n",
       "      <td>36</td>\n",
       "      <td>1013097</td>\n",
       "      <td>88</td>\n",
       "      <td>18</td>\n",
       "      <td>...</td>\n",
       "      <td>88</td>\n",
       "      <td>163</td>\n",
       "      <td>161</td>\n",
       "      <td>162</td>\n",
       "      <td>87</td>\n",
       "      <td>12</td>\n",
       "      <td>162</td>\n",
       "      <td>88</td>\n",
       "      <td>87</td>\n",
       "      <td>88</td>\n",
       "    </tr>\n",
       "    <tr>\n",
       "      <td>3</td>\n",
       "      <td>P</td>\n",
       "      <td>2018GQ0000081</td>\n",
       "      <td>2</td>\n",
       "      <td>1</td>\n",
       "      <td>2401</td>\n",
       "      <td>1</td>\n",
       "      <td>36</td>\n",
       "      <td>1013097</td>\n",
       "      <td>109</td>\n",
       "      <td>85</td>\n",
       "      <td>...</td>\n",
       "      <td>17</td>\n",
       "      <td>15</td>\n",
       "      <td>111</td>\n",
       "      <td>107</td>\n",
       "      <td>17</td>\n",
       "      <td>196</td>\n",
       "      <td>109</td>\n",
       "      <td>200</td>\n",
       "      <td>198</td>\n",
       "      <td>111</td>\n",
       "    </tr>\n",
       "    <tr>\n",
       "      <td>4</td>\n",
       "      <td>P</td>\n",
       "      <td>2018GQ0000103</td>\n",
       "      <td>2</td>\n",
       "      <td>1</td>\n",
       "      <td>1400</td>\n",
       "      <td>1</td>\n",
       "      <td>36</td>\n",
       "      <td>1013097</td>\n",
       "      <td>83</td>\n",
       "      <td>19</td>\n",
       "      <td>...</td>\n",
       "      <td>81</td>\n",
       "      <td>12</td>\n",
       "      <td>80</td>\n",
       "      <td>154</td>\n",
       "      <td>12</td>\n",
       "      <td>80</td>\n",
       "      <td>12</td>\n",
       "      <td>83</td>\n",
       "      <td>152</td>\n",
       "      <td>154</td>\n",
       "    </tr>\n",
       "  </tbody>\n",
       "</table>\n",
       "<p>5 rows × 286 columns</p>\n",
       "</div>"
      ],
      "text/plain": [
       "  RT       SERIALNO  DIVISION  SPORDER  PUMA  REGION  ST   ADJINC  PWGTP  \\\n",
       "0  P  2018GQ0000012         2        1  3802       1  36  1013097    145   \n",
       "1  P  2018GQ0000040         2        1  2702       1  36  1013097     43   \n",
       "2  P  2018GQ0000060         2        1  2001       1  36  1013097     88   \n",
       "3  P  2018GQ0000081         2        1  2401       1  36  1013097    109   \n",
       "4  P  2018GQ0000103         2        1  1400       1  36  1013097     83   \n",
       "\n",
       "   AGEP  ...  PWGTP71  PWGTP72  PWGTP73  PWGTP74  PWGTP75  PWGTP76  PWGTP77  \\\n",
       "0    26  ...      146      146       21       24      266      263       21   \n",
       "1    21  ...        6       42       43        7       40        6       43   \n",
       "2    18  ...       88      163      161      162       87       12      162   \n",
       "3    85  ...       17       15      111      107       17      196      109   \n",
       "4    19  ...       81       12       80      154       12       80       12   \n",
       "\n",
       "   PWGTP78  PWGTP79  PWGTP80  \n",
       "0      146      265      144  \n",
       "1       40       42        6  \n",
       "2       88       87       88  \n",
       "3      200      198      111  \n",
       "4       83      152      154  \n",
       "\n",
       "[5 rows x 286 columns]"
      ]
     },
     "execution_count": 190,
     "metadata": {},
     "output_type": "execute_result"
    }
   ],
   "source": [
    "# print out first 5 rows\n",
    "pums_1yr.head()"
   ]
  },
  {
   "cell_type": "code",
   "execution_count": 191,
   "metadata": {},
   "outputs": [],
   "source": [
    "# columns for age, salary, and those related to amount worked\n",
    "keep = [\n",
    "    'AGEP',    # AGEP: Age\n",
    "    'WAGP',    # WAGP: Wages or salary income for the past 12 months\n",
    "    'WKHP',    # WKHP: Usual hours worked per week past 12 months\n",
    "    'WKW',     # WKW:  Weeks worked past 12 months, 1: 50-52, 2: 48-49, 3: 40-47, 4: 27-39, 5: 14-26, 6: less than 14\n",
    "]"
   ]
  },
  {
   "cell_type": "code",
   "execution_count": 192,
   "metadata": {},
   "outputs": [],
   "source": [
    "# PA occupation code\n",
    "pa_code = 3110"
   ]
  },
  {
   "cell_type": "code",
   "execution_count": 194,
   "metadata": {},
   "outputs": [
    {
     "data": {
      "text/plain": [
       "(148, 4)"
      ]
     },
     "execution_count": 194,
     "metadata": {},
     "output_type": "execute_result"
    }
   ],
   "source": [
    "# create a new dataframe of PAs with columns from above\n",
    "pa_1yr = pums_1yr[pums_1yr['OCCP'] == pa_code]\n",
    "pa_1yr = pa_1yr[keep]\n",
    "\n",
    "# look at shape of new dataframe\n",
    "pa_1yr.shape"
   ]
  },
  {
   "cell_type": "code",
   "execution_count": 195,
   "metadata": {},
   "outputs": [
    {
     "data": {
      "text/html": [
       "<div>\n",
       "<style scoped>\n",
       "    .dataframe tbody tr th:only-of-type {\n",
       "        vertical-align: middle;\n",
       "    }\n",
       "\n",
       "    .dataframe tbody tr th {\n",
       "        vertical-align: top;\n",
       "    }\n",
       "\n",
       "    .dataframe thead th {\n",
       "        text-align: right;\n",
       "    }\n",
       "</style>\n",
       "<table border=\"1\" class=\"dataframe\">\n",
       "  <thead>\n",
       "    <tr style=\"text-align: right;\">\n",
       "      <th></th>\n",
       "      <th>AGEP</th>\n",
       "      <th>WAGP</th>\n",
       "      <th>WKHP</th>\n",
       "      <th>WKW</th>\n",
       "    </tr>\n",
       "  </thead>\n",
       "  <tbody>\n",
       "    <tr>\n",
       "      <td>11393</td>\n",
       "      <td>28</td>\n",
       "      <td>110000.0</td>\n",
       "      <td>40.0</td>\n",
       "      <td>1.0</td>\n",
       "    </tr>\n",
       "    <tr>\n",
       "      <td>13078</td>\n",
       "      <td>42</td>\n",
       "      <td>65000.0</td>\n",
       "      <td>30.0</td>\n",
       "      <td>1.0</td>\n",
       "    </tr>\n",
       "    <tr>\n",
       "      <td>15427</td>\n",
       "      <td>27</td>\n",
       "      <td>110000.0</td>\n",
       "      <td>40.0</td>\n",
       "      <td>1.0</td>\n",
       "    </tr>\n",
       "    <tr>\n",
       "      <td>16218</td>\n",
       "      <td>26</td>\n",
       "      <td>95000.0</td>\n",
       "      <td>45.0</td>\n",
       "      <td>1.0</td>\n",
       "    </tr>\n",
       "    <tr>\n",
       "      <td>17155</td>\n",
       "      <td>31</td>\n",
       "      <td>120000.0</td>\n",
       "      <td>40.0</td>\n",
       "      <td>1.0</td>\n",
       "    </tr>\n",
       "  </tbody>\n",
       "</table>\n",
       "</div>"
      ],
      "text/plain": [
       "       AGEP      WAGP  WKHP  WKW\n",
       "11393    28  110000.0  40.0  1.0\n",
       "13078    42   65000.0  30.0  1.0\n",
       "15427    27  110000.0  40.0  1.0\n",
       "16218    26   95000.0  45.0  1.0\n",
       "17155    31  120000.0  40.0  1.0"
      ]
     },
     "execution_count": 195,
     "metadata": {},
     "output_type": "execute_result"
    }
   ],
   "source": [
    "# look at first 5 rows of new dataframe\n",
    "pa_1yr.head()"
   ]
  },
  {
   "cell_type": "code",
   "execution_count": 197,
   "metadata": {},
   "outputs": [
    {
     "data": {
      "text/plain": [
       "(47, 4)"
      ]
     },
     "execution_count": 197,
     "metadata": {},
     "output_type": "execute_result"
    }
   ],
   "source": [
    "def clean_income_work(df):\n",
    "    \"\"\"\n",
    "    Remove older workers above 33, remove part time workers working under 36 hours per week,\n",
    "    remove workers who worked less than 27 weeks.\n",
    "    \n",
    "    df: Pandas DataFrame\n",
    "    \n",
    "    return: DataFrame, cleaned to remove older and part time workers\n",
    "    \"\"\"\n",
    "    # Copy dataframe\n",
    "    df = df.copy()\n",
    "    \n",
    "    # research shows 50% of PA graduates are between 25 - 33 years old\n",
    "    # remove PAs over the age of 33\n",
    "    df = df[df['AGEP'] <= 33]\n",
    "\n",
    "    # from data dictionary WKHP is usual hours worked per week\n",
    "    # remove hours under 36 per week, to remove part time\n",
    "    df = df[df['WKHP'] >= 36]\n",
    "\n",
    "    # from data dictionary WKW weeks worked during the past 12 months\n",
    "    # categorical, values 5 and over represent less than 27 weeks worked\n",
    "    df = df[df['WKW'] < 5]\n",
    "    \n",
    "    return df\n",
    "\n",
    "# remove older and part time workers and print out shape\n",
    "pa_1yr = clean_income_work(pa_1yr)\n",
    "pa_1yr.shape"
   ]
  },
  {
   "cell_type": "code",
   "execution_count": 198,
   "metadata": {},
   "outputs": [
    {
     "data": {
      "text/html": [
       "<div>\n",
       "<style scoped>\n",
       "    .dataframe tbody tr th:only-of-type {\n",
       "        vertical-align: middle;\n",
       "    }\n",
       "\n",
       "    .dataframe tbody tr th {\n",
       "        vertical-align: top;\n",
       "    }\n",
       "\n",
       "    .dataframe thead th {\n",
       "        text-align: right;\n",
       "    }\n",
       "</style>\n",
       "<table border=\"1\" class=\"dataframe\">\n",
       "  <thead>\n",
       "    <tr style=\"text-align: right;\">\n",
       "      <th></th>\n",
       "      <th>AGEP</th>\n",
       "      <th>WAGP</th>\n",
       "      <th>WKHP</th>\n",
       "      <th>WKW</th>\n",
       "    </tr>\n",
       "  </thead>\n",
       "  <tbody>\n",
       "    <tr>\n",
       "      <td>count</td>\n",
       "      <td>47.000000</td>\n",
       "      <td>47.000000</td>\n",
       "      <td>47.000000</td>\n",
       "      <td>47.000000</td>\n",
       "    </tr>\n",
       "    <tr>\n",
       "      <td>mean</td>\n",
       "      <td>29.191489</td>\n",
       "      <td>103914.893617</td>\n",
       "      <td>42.978723</td>\n",
       "      <td>1.276596</td>\n",
       "    </tr>\n",
       "    <tr>\n",
       "      <td>std</td>\n",
       "      <td>2.533586</td>\n",
       "      <td>39516.001045</td>\n",
       "      <td>7.203530</td>\n",
       "      <td>0.826257</td>\n",
       "    </tr>\n",
       "    <tr>\n",
       "      <td>min</td>\n",
       "      <td>25.000000</td>\n",
       "      <td>24000.000000</td>\n",
       "      <td>36.000000</td>\n",
       "      <td>1.000000</td>\n",
       "    </tr>\n",
       "    <tr>\n",
       "      <td>25%</td>\n",
       "      <td>27.000000</td>\n",
       "      <td>90000.000000</td>\n",
       "      <td>40.000000</td>\n",
       "      <td>1.000000</td>\n",
       "    </tr>\n",
       "    <tr>\n",
       "      <td>50%</td>\n",
       "      <td>29.000000</td>\n",
       "      <td>100000.000000</td>\n",
       "      <td>40.000000</td>\n",
       "      <td>1.000000</td>\n",
       "    </tr>\n",
       "    <tr>\n",
       "      <td>75%</td>\n",
       "      <td>31.500000</td>\n",
       "      <td>121000.000000</td>\n",
       "      <td>45.000000</td>\n",
       "      <td>1.000000</td>\n",
       "    </tr>\n",
       "    <tr>\n",
       "      <td>max</td>\n",
       "      <td>33.000000</td>\n",
       "      <td>200000.000000</td>\n",
       "      <td>80.000000</td>\n",
       "      <td>4.000000</td>\n",
       "    </tr>\n",
       "  </tbody>\n",
       "</table>\n",
       "</div>"
      ],
      "text/plain": [
       "            AGEP           WAGP       WKHP        WKW\n",
       "count  47.000000      47.000000  47.000000  47.000000\n",
       "mean   29.191489  103914.893617  42.978723   1.276596\n",
       "std     2.533586   39516.001045   7.203530   0.826257\n",
       "min    25.000000   24000.000000  36.000000   1.000000\n",
       "25%    27.000000   90000.000000  40.000000   1.000000\n",
       "50%    29.000000  100000.000000  40.000000   1.000000\n",
       "75%    31.500000  121000.000000  45.000000   1.000000\n",
       "max    33.000000  200000.000000  80.000000   4.000000"
      ]
     },
     "execution_count": 198,
     "metadata": {},
     "output_type": "execute_result"
    }
   ],
   "source": [
    "# Summary stats of remaining observations\n",
    "pa_1yr.describe()"
   ]
  },
  {
   "cell_type": "code",
   "execution_count": 199,
   "metadata": {},
   "outputs": [
    {
     "data": {
      "image/png": "[encoded data removed]",
      "text/plain": [
       "<Figure size 432x288 with 1 Axes>"
      ]
     },
     "metadata": {
      "needs_background": "light"
     },
     "output_type": "display_data"
    }
   ],
   "source": [
    "# Box plot of Income, use to trim outliers\n",
    "sns.boxplot(pa_1yr['WAGP']);"
   ]
  },
  {
   "cell_type": "code",
   "execution_count": 200,
   "metadata": {},
   "outputs": [
    {
     "data": {
      "text/plain": [
       "(40, 4)"
      ]
     },
     "execution_count": 200,
     "metadata": {},
     "output_type": "execute_result"
    }
   ],
   "source": [
    "def trim_outliers(df, low, high):\n",
    "    \"\"\"\n",
    "    Remove low and upper outliers\n",
    "    \n",
    "    df: Pandas DataFrame\n",
    "    low: int, used to trim lower outliers\n",
    "    high: int, used to trim upper outliers\n",
    "    \n",
    "    return: DataFrame\n",
    "    \"\"\"\n",
    "    # Copy df\n",
    "    df = df.copy()\n",
    "    \n",
    "    # remove upper and lower outliers in income\n",
    "    df = df[(df['WAGP'] >= low) & (df['WAGP'] <= high)]\n",
    "    \n",
    "    return df\n",
    "\n",
    "# removed outliers and print shape\n",
    "pa_1yr = trim_outliers(pa_1yr, 50000, 150000)\n",
    "pa_1yr.shape"
   ]
  },
  {
   "cell_type": "code",
   "execution_count": 201,
   "metadata": {},
   "outputs": [
    {
     "data": {
      "image/png": "[encoded data removed]",
      "text/plain": [
       "<Figure size 432x288 with 1 Axes>"
      ]
     },
     "metadata": {
      "needs_background": "light"
     },
     "output_type": "display_data"
    }
   ],
   "source": [
    "# Income distribution after removing outliers\n",
    "sns.distplot(pa_1yr['WAGP']);"
   ]
  },
  {
   "cell_type": "code",
   "execution_count": 202,
   "metadata": {},
   "outputs": [
    {
     "data": {
      "text/plain": [
       "28    7\n",
       "30    6\n",
       "27    6\n",
       "32    5\n",
       "31    5\n",
       "33    4\n",
       "26    4\n",
       "25    2\n",
       "29    1\n",
       "Name: AGEP, dtype: int64"
      ]
     },
     "execution_count": 202,
     "metadata": {},
     "output_type": "execute_result"
    }
   ],
   "source": [
    "# look at value counts of AGE after cleaning\n",
    "pa_1yr['AGEP'].value_counts()"
   ]
  },
  {
   "cell_type": "code",
   "execution_count": 209,
   "metadata": {},
   "outputs": [
    {
     "data": {
      "image/png": "[encoded data removed]",
      "text/plain": [
       "<Figure size 432x288 with 1 Axes>"
      ]
     },
     "metadata": {
      "needs_background": "light"
     },
     "output_type": "display_data"
    }
   ],
   "source": [
    "plt.hist(pa_1yr['AGEP'], bins=9)\n",
    "plt.xlabel(\"Age\")\n",
    "plt.ylabel(\"Count\")\n",
    "plt.title(\"Ages of Early Career PAs in NY from 2018 Survey\")\n",
    "plt.show();"
   ]
  },
  {
   "cell_type": "markdown",
   "metadata": {},
   "source": [
    "### **Calculate Average Income and Standard Deviation**"
   ]
  },
  {
   "cell_type": "code",
   "execution_count": 42,
   "metadata": {},
   "outputs": [
    {
     "name": "stdout",
     "output_type": "stream",
     "text": [
      "The average salary for early career PA's in NY in 2018 is $104,125.00\n",
      "The standard deviation in salary for early career PA's in NY in 2018 is $23,439.48\n"
     ]
    }
   ],
   "source": [
    "# Calculate the average income\n",
    "mean_income = pa_1yr['WAGP'].sum() / len(pa_1yr['WAGP'])\n",
    "\n",
    "# calculate the variance in PA incomes\n",
    "var = sum((x-mean_income)**2 for x in pa_1yr['WAGP']) / len(pa_1yr['WAGP'])\n",
    "\n",
    "# use variance to calculate the standard deviation\n",
    "std = np.sqrt(var)\n",
    "\n",
    "# check above calculations using numpy\n",
    "assert np.isclose(mean_income, np.mean(pa_1yr['WAGP'])) == True  # check average income\n",
    "assert np.isclose(var, np.var(pa_1yr['WAGP'])) == True           # check variance calculation\n",
    "assert np.isclose(std, np.std(pa_1yr['WAGP'])) == True           # check standard deviation\n",
    "\n",
    "# print out the formated average income\n",
    "print(f\"The average salary for early career PA's in NY in 2018 is ${mean_income:,.2f}\")\n",
    "\n",
    "# print out the formated standard deviation\n",
    "print(f\"The standard deviation in salary for early career PA's in NY in 2018 is ${std:,.2f}\")"
   ]
  },
  {
   "cell_type": "code",
   "execution_count": 219,
   "metadata": {},
   "outputs": [
    {
     "name": "stdout",
     "output_type": "stream",
     "text": [
      "For 90% confidence:\n",
      "The average salary for early career PA's in NY in 2018 is $104,125.00\n",
      "The margin of error is $6,096.55\n",
      "The confidence interval is $98,028.45 - $110,221.55\n",
      "\n",
      "\n",
      "For 95% confidence:\n",
      "The average salary for early career PA's in NY in 2018 is $104,125.00\n",
      "The margin of error is $7,263.97\n",
      "The confidence interval is $96,861.03 - $111,388.97\n",
      "\n",
      "\n"
     ]
    }
   ],
   "source": [
    "def conf_interval(mean, std, z_score, n):\n",
    "    \"\"\"\n",
    "    given a mean, std, z-score, and sample size n, calculate the margin of error and confidence interval\n",
    "    \n",
    "    mean: float, sample mean\n",
    "    std: float, sample standard deviation\n",
    "    z: float, z-score\n",
    "    n: int, sample size\n",
    "    \n",
    "    return: none, print out results\n",
    "    \"\"\"\n",
    "    # use provided z-score and sample size n to calculate margin of error and interval\n",
    "    z = z_score\n",
    "    margin_of_error = z * ( std / np.sqrt(n) )\n",
    "    low = mean - margin_of_error\n",
    "    high = mean + margin_of_error\n",
    "    \n",
    "    # print average, margin of error, and confidence interval\n",
    "    print(f\"The average salary for early career PA's in NY in 2018 is ${mean:,.2f}\")\n",
    "    print(f'The margin of error is ${margin_of_error:,.2f}')\n",
    "    print(f'The confidence interval is ${low:,.2f} - ${high:,.2f}\\n\\n')\n",
    "\n",
    "# use confidence interval function for 90%\n",
    "print('For 90% confidence:')\n",
    "conf_interval(mean_income, std, 1.645, len(pa_1yr))\n",
    "\n",
    "# use confidence interval function for 95%\n",
    "print('For 95% confidence:')\n",
    "conf_interval(mean_income, std, 1.96, len(pa_1yr))"
   ]
  },
  {
   "cell_type": "markdown",
   "metadata": {},
   "source": [
    "# Part 2: Use 5 year survey to calculate raise rate over time"
   ]
  },
  {
   "cell_type": "code",
   "execution_count": 2,
   "metadata": {},
   "outputs": [
    {
     "data": {
      "text/plain": [
       "(981674, 286)"
      ]
     },
     "execution_count": 2,
     "metadata": {},
     "output_type": "execute_result"
    }
   ],
   "source": [
    "# 5 year survey is a very large file, read it in in chuncks\n",
    "df_chunk = pd.read_csv('psam_p36_5yr.csv', chunksize=50000, low_memory=False)\n",
    "\n",
    "# inistialize list to append chuncks\n",
    "chunk_list = []\n",
    "\n",
    "# loop through chunks and append them all into chunk_list\n",
    "for chunk in df_chunk:\n",
    "    chunk_list.append(chunk)\n",
    "\n",
    "# concat the elements of the chunk_list into one Pandas DataFrame\n",
    "pums_5yr = pd.concat(chunk_list)\n",
    "\n",
    "# print out the shape of the new DataFrame\n",
    "pums_5yr.shape"
   ]
  },
  {
   "cell_type": "code",
   "execution_count": 134,
   "metadata": {},
   "outputs": [
    {
     "data": {
      "text/plain": [
       "(538, 7)"
      ]
     },
     "execution_count": 134,
     "metadata": {},
     "output_type": "execute_result"
    }
   ],
   "source": [
    "# due to data size, eliminated un-needed data in excel before loading\n",
    "pa_5yr = pd.read_csv('pa_ny_5yr.csv')\n",
    "\n",
    "# Print out shape of Filtered DataFrame\n",
    "pa_5yr.shape"
   ]
  },
  {
   "cell_type": "code",
   "execution_count": 135,
   "metadata": {},
   "outputs": [
    {
     "data": {
      "text/html": [
       "<div>\n",
       "<style scoped>\n",
       "    .dataframe tbody tr th:only-of-type {\n",
       "        vertical-align: middle;\n",
       "    }\n",
       "\n",
       "    .dataframe tbody tr th {\n",
       "        vertical-align: top;\n",
       "    }\n",
       "\n",
       "    .dataframe thead th {\n",
       "        text-align: right;\n",
       "    }\n",
       "</style>\n",
       "<table border=\"1\" class=\"dataframe\">\n",
       "  <thead>\n",
       "    <tr style=\"text-align: right;\">\n",
       "      <th></th>\n",
       "      <th>SERIALNO</th>\n",
       "      <th>AGEP</th>\n",
       "      <th>WAGP</th>\n",
       "      <th>WKHP</th>\n",
       "      <th>WKW</th>\n",
       "      <th>WRK</th>\n",
       "      <th>OCCP</th>\n",
       "    </tr>\n",
       "  </thead>\n",
       "  <tbody>\n",
       "    <tr>\n",
       "      <td>0</td>\n",
       "      <td>2014000013261</td>\n",
       "      <td>55</td>\n",
       "      <td>6000</td>\n",
       "      <td>40.0</td>\n",
       "      <td>6.0</td>\n",
       "      <td>1.0</td>\n",
       "      <td>3110</td>\n",
       "    </tr>\n",
       "    <tr>\n",
       "      <td>1</td>\n",
       "      <td>2014000016657</td>\n",
       "      <td>53</td>\n",
       "      <td>157000</td>\n",
       "      <td>48.0</td>\n",
       "      <td>1.0</td>\n",
       "      <td>1.0</td>\n",
       "      <td>3110</td>\n",
       "    </tr>\n",
       "    <tr>\n",
       "      <td>2</td>\n",
       "      <td>2014000021103</td>\n",
       "      <td>26</td>\n",
       "      <td>103000</td>\n",
       "      <td>48.0</td>\n",
       "      <td>1.0</td>\n",
       "      <td>1.0</td>\n",
       "      <td>3110</td>\n",
       "    </tr>\n",
       "    <tr>\n",
       "      <td>3</td>\n",
       "      <td>2014000062989</td>\n",
       "      <td>26</td>\n",
       "      <td>83000</td>\n",
       "      <td>40.0</td>\n",
       "      <td>1.0</td>\n",
       "      <td>1.0</td>\n",
       "      <td>3110</td>\n",
       "    </tr>\n",
       "    <tr>\n",
       "      <td>4</td>\n",
       "      <td>2014000081043</td>\n",
       "      <td>27</td>\n",
       "      <td>27000</td>\n",
       "      <td>36.0</td>\n",
       "      <td>4.0</td>\n",
       "      <td>1.0</td>\n",
       "      <td>3110</td>\n",
       "    </tr>\n",
       "  </tbody>\n",
       "</table>\n",
       "</div>"
      ],
      "text/plain": [
       "        SERIALNO  AGEP    WAGP  WKHP  WKW  WRK  OCCP\n",
       "0  2014000013261    55    6000  40.0  6.0  1.0  3110\n",
       "1  2014000016657    53  157000  48.0  1.0  1.0  3110\n",
       "2  2014000021103    26  103000  48.0  1.0  1.0  3110\n",
       "3  2014000062989    26   83000  40.0  1.0  1.0  3110\n",
       "4  2014000081043    27   27000  36.0  4.0  1.0  3110"
      ]
     },
     "execution_count": 135,
     "metadata": {},
     "output_type": "execute_result"
    }
   ],
   "source": [
    "# print out the first 5 rows\n",
    "pa_5yr.head()"
   ]
  },
  {
   "cell_type": "code",
   "execution_count": 136,
   "metadata": {},
   "outputs": [],
   "source": [
    "# first 4 characters of 'SERIALNO' appear to be the year of the survey\n",
    "pa_5yr['SERIALNO'] = pa_5yr['SERIALNO'].apply(lambda x: x[:4])"
   ]
  },
  {
   "cell_type": "code",
   "execution_count": 137,
   "metadata": {},
   "outputs": [
    {
     "name": "stdout",
     "output_type": "stream",
     "text": [
      "(97, 7) (84, 7) (91, 7) (118, 7) (148, 7)\n"
     ]
    }
   ],
   "source": [
    "# Split the Filtered DataFrame into multiple DataFrames by year of survey\n",
    "pa_2014 = pa_5yr[pa_5yr['SERIALNO'] == '2014']\n",
    "pa_2015 = pa_5yr[pa_5yr['SERIALNO'] == '2015']\n",
    "pa_2016 = pa_5yr[pa_5yr['SERIALNO'] == '2016']\n",
    "pa_2017 = pa_5yr[pa_5yr['SERIALNO'] == '2017']\n",
    "pa_2018 = pa_5yr[pa_5yr['SERIALNO'] == '2018']\n",
    "\n",
    "# Print out the shapes of each of the new DataFrames \n",
    "print(pa_2014.shape, pa_2015.shape, pa_2016.shape, pa_2017.shape, pa_2018.shape)"
   ]
  },
  {
   "cell_type": "code",
   "execution_count": 138,
   "metadata": {},
   "outputs": [],
   "source": [
    "# clean yearly DataFrames to remove, older and part time workers\n",
    "pa_2014 = clean_income_work(pa_2014)\n",
    "pa_2015 = clean_income_work(pa_2015)\n",
    "pa_2016 = clean_income_work(pa_2016)\n",
    "pa_2017 = clean_income_work(pa_2017)\n",
    "pa_2018 = clean_income_work(pa_2018)"
   ]
  },
  {
   "cell_type": "code",
   "execution_count": 139,
   "metadata": {},
   "outputs": [
    {
     "name": "stdout",
     "output_type": "stream",
     "text": [
      "(32, 7) (24, 7) (27, 7) (40, 7) (47, 7)\n"
     ]
    }
   ],
   "source": [
    "# look at the new shapes of each DataFrame\n",
    "print(pa_2014.shape, pa_2015.shape, pa_2016.shape, pa_2017.shape, pa_2018.shape)"
   ]
  },
  {
   "cell_type": "code",
   "execution_count": 142,
   "metadata": {},
   "outputs": [],
   "source": [
    "# set low and high values to trim outliers\n",
    "low = 50000\n",
    "high = 150000\n",
    "\n",
    "# trim outliers from cleaned DataFrame\n",
    "pa_2014 = trim_outliers(pa_2014, low, high)\n",
    "pa_2015 = trim_outliers(pa_2015, low, high)\n",
    "pa_2016 = trim_outliers(pa_2016, low, high)\n",
    "pa_2017 = trim_outliers(pa_2017, low, high)\n",
    "pa_2018 = trim_outliers(pa_2018, low, high)"
   ]
  },
  {
   "cell_type": "code",
   "execution_count": 143,
   "metadata": {},
   "outputs": [
    {
     "name": "stdout",
     "output_type": "stream",
     "text": [
      "(27, 7) (21, 7) (24, 7) (34, 7) (40, 7)\n"
     ]
    }
   ],
   "source": [
    "# look at the new shapes of each DataFrame\n",
    "print(pa_2014.shape, pa_2015.shape, pa_2016.shape, pa_2017.shape, pa_2018.shape)"
   ]
  },
  {
   "cell_type": "code",
   "execution_count": 144,
   "metadata": {},
   "outputs": [
    {
     "data": {
      "image/png": "[encoded data removed]",
      "text/plain": [
       "<Figure size 432x288 with 1 Axes>"
      ]
     },
     "metadata": {
      "needs_background": "light"
     },
     "output_type": "display_data"
    }
   ],
   "source": [
    "# Income distributions after removing outliers\n",
    "sns.distplot(pa_2014['WAGP'], hist=False, label='2014')\n",
    "sns.distplot(pa_2015['WAGP'], hist=False, label='2015')\n",
    "sns.distplot(pa_2016['WAGP'], hist=False, label='2016')\n",
    "sns.distplot(pa_2017['WAGP'], hist=False, label='2017')\n",
    "sns.distplot(pa_2018['WAGP'], hist=False, label='2018')\n",
    "plt.legend()\n",
    "plt.show();"
   ]
  },
  {
   "cell_type": "code",
   "execution_count": 168,
   "metadata": {},
   "outputs": [
    {
     "name": "stdout",
     "output_type": "stream",
     "text": [
      "$84,037.04\n",
      "$93,095.24\n",
      "$92,416.67\n",
      "$98,941.18\n",
      "$104,125.00\n"
     ]
    }
   ],
   "source": [
    "# create empty list that will hold mean incomes from each survey year\n",
    "means = []\n",
    "\n",
    "# calculate the mean income from each year and add it to the means list\n",
    "means.append(np.mean(pa_2014['WAGP']))\n",
    "means.append(np.mean(pa_2015['WAGP']))\n",
    "means.append(np.mean(pa_2016['WAGP']))\n",
    "means.append(np.mean(pa_2017['WAGP']))\n",
    "means.append(np.mean(pa_2018['WAGP']))\n",
    "\n",
    "# print the mean incomes for each year\n",
    "for m in means: print(f'${m:,.2f}')"
   ]
  },
  {
   "cell_type": "code",
   "execution_count": 153,
   "metadata": {},
   "outputs": [],
   "source": [
    "# create fucntion to calculate Compound Annual Growth Rate\n",
    "def cagr(start_value, end_value, n):\n",
    "    \"\"\"\n",
    "    Calculate the average growth rate given a starting value and an ending value over n periods\n",
    "    \n",
    "    start_value: float, first value\n",
    "    end_value: float, ending value\n",
    "    n: int, number of periods\n",
    "    \n",
    "    return: float, average growth rate over n periods \n",
    "    \"\"\"\n",
    "    return (end_value / start_value) ** (1 / (n - 1)) - 1"
   ]
  },
  {
   "cell_type": "code",
   "execution_count": 174,
   "metadata": {},
   "outputs": [
    {
     "name": "stdout",
     "output_type": "stream",
     "text": [
      "Average raise rate: 5.50%\n"
     ]
    }
   ],
   "source": [
    "# get the average constant growth rate from 2014 to 2018 using 2014 and 2018 mean income\n",
    "const_rate = cagr(means[0], means[-1], len(means))\n",
    "\n",
    "# use contant rate to calculate the future value of 2014 mean income and make sure it matches 2018\n",
    "assert (means[0] * (1 + const_rate) ** (len(means)-1)) == means[-1]\n",
    "\n",
    "# print out the result\n",
    "print(f'Average raise rate: {const_rate:.2%}')"
   ]
  },
  {
   "cell_type": "markdown",
   "metadata": {},
   "source": [
    "# **Part 3:** Use Raise Rate and Average Income from 2018 to Predict 2020 Income"
   ]
  },
  {
   "cell_type": "code",
   "execution_count": 175,
   "metadata": {},
   "outputs": [],
   "source": [
    "# Create a future value function\n",
    "def future_value(starting_value, rate, n):\n",
    "    \"\"\"\n",
    "    Get the future value of a starting amount given a rate and n periods\n",
    "    \n",
    "    starting_value: float\n",
    "    rate: float\n",
    "    n: int\n",
    "    \n",
    "    return: float, future value amount based on starting value, rate, and n periods\n",
    "    \"\"\"\n",
    "    return starting_value * (1 + rate) ** n"
   ]
  },
  {
   "cell_type": "code",
   "execution_count": 178,
   "metadata": {},
   "outputs": [
    {
     "name": "stdout",
     "output_type": "stream",
     "text": [
      "The average salary for early career PA's in NY in 2020 is predictied to be $115,903.66\n"
     ]
    }
   ],
   "source": [
    "# set up variables needed to calculate future value and predict 2020 mean income\n",
    "mean_2018 = means[-1]    # last mean income from list of means is 2018\n",
    "n = 2020 - 2018          # number of years = n\n",
    "\n",
    "# use 2018 mean and n years to predict 2020 mean income\n",
    "pred_2020 = future_value(mean_2018, const_rate, n)\n",
    "\n",
    "# print out prediction\n",
    "print(f\"The average salary for early career PA's in NY in 2020 is predictied to be ${pred_2020:,.2f}\")"
   ]
  },
  {
   "cell_type": "code",
   "execution_count": 220,
   "metadata": {},
   "outputs": [
    {
     "name": "stdout",
     "output_type": "stream",
     "text": [
      "2020 margin of error and 90% confidence interval\n",
      "The average salary for early career PA's in NY in 2018 is $115,903.66\n",
      "The margin of error is $6,096.55\n",
      "The confidence interval is $109,807.11 - $122,000.21\n",
      "\n",
      "\n",
      "2020 margin of error and 95% confidence interval\n",
      "The average salary for early career PA's in NY in 2018 is $115,903.66\n",
      "The margin of error is $7,263.97\n",
      "The confidence interval is $108,639.69 - $123,167.63\n",
      "\n",
      "\n"
     ]
    }
   ],
   "source": [
    "# Use std and n from 2018 with predicted 2020 income to create 2020 margin of error and confidence intervals\n",
    "print(\"2020 margin of error and 90% confidence interval\")\n",
    "conf_interval(pred_2020, std, 1.645, len(pa_1yr))\n",
    "\n",
    "print(\"2020 margin of error and 95% confidence interval\")\n",
    "conf_interval(pred_2020, std, 1.96, len(pa_1yr))"
   ]
  },
  {
   "cell_type": "code",
   "execution_count": null,
   "metadata": {},
   "outputs": [],
   "source": []
  }
 ],
 "metadata": {
  "kernelspec": {
   "display_name": "Python 3",
   "language": "python",
   "name": "python3"
  },
  "language_info": {
   "codemirror_mode": {
    "name": "ipython",
    "version": 3
   },
   "file_extension": ".py",
   "mimetype": "text/x-python",
   "name": "python",
   "nbconvert_exporter": "python",
   "pygments_lexer": "ipython3",
   "version": "3.7.4"
  }
 },
 "nbformat": 4,
 "nbformat_minor": 4
}
